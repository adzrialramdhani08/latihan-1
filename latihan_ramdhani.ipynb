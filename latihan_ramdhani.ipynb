{
 "cells": [
  {
   "cell_type": "code",
   "execution_count": 12,
   "id": "5a3325a8",
   "metadata": {},
   "outputs": [
    {
     "name": "stdout",
     "output_type": "stream",
     "text": [
      "===== create by muhamad adzrial ramdhani ======\n",
      "==================== TI22E ====================\n",
      "======== Materi operator | 11 Okt 2022 ========\n"
     ]
    }
   ],
   "source": [
    "print(\"=\"*5,\"create by muhamad adzrial ramdhani\",\"=\"*6)\n",
    "print(\"=\"*20,\"TI22E\",\"=\"*20)\n",
    "print(\"=\"*8,\"Materi operator | 11 Okt 2022\",\"=\"*8)"
   ]
  },
  {
   "cell_type": "code",
   "execution_count": 60,
   "id": "20bbf0d2",
   "metadata": {},
   "outputs": [
    {
     "name": "stdout",
     "output_type": "stream",
     "text": [
      "4 + 5 \t= 9 \t    >>Operator Pertambahan\n",
      "4 - 5 \t= -1 \t    >>Operator Pengurangan\n",
      "4 * 5 \t= 20 \t    >>Operator Perkalian\n",
      "4 / 5 \t= 0.8 \t    >>Operator Pembagian\n",
      "4 % 5 \t= 4 \t    >>Operator Modulus\n",
      "4 ** 5 \t= 1024 \t    >>Operator Eksponen\n",
      "4 // 5 \t= 0 \t    >>Operator Floor Division\n"
     ]
    }
   ],
   "source": [
    "x = 4\n",
    "y = 5\n",
    "print(x,\"+\",y, \"\\t=\",x+y,  \"\\t    >>Operator Pertambahan\") \n",
    "print(x,\"-\",y, \"\\t=\",x-y,  \"\\t    >>Operator Pengurangan\")\n",
    "print(x,\"*\",y, \"\\t=\",x*y,  \"\\t    >>Operator Perkalian\")\n",
    "print(x,\"/\",y, \"\\t=\",x/y,  \"\\t    >>Operator Pembagian\")\n",
    "print(x,\"%\",y, \"\\t=\",x%y,  \"\\t    >>Operator Modulus\")\n",
    "print(x,\"**\",y,\"\\t=\",x**y, \"\\t    >>Operator Eksponen\")\n",
    "print(x,\"//\",y,\"\\t=\",x//y, \"\\t    >>Operator Floor Division\")"
   ]
  },
  {
   "cell_type": "code",
   "execution_count": 40,
   "id": "73808680",
   "metadata": {},
   "outputs": [
    {
     "name": "stdout",
     "output_type": "stream",
     "text": [
      "x = 10\n",
      "x+= 2 --> 12\n",
      "x-=3 --> 9\n",
      "x*=4 --> 36\n"
     ]
    }
   ],
   "source": [
    "#operator assignment\n",
    "x = 10\n",
    "print(\"x =\",x)\n",
    "x+= 2 # x=x+2\n",
    "print(\"x+= 2 -->\",x)\n",
    "x-=3 # x=x-3\n",
    "print(\"x-=3 -->\",x)\n",
    "x*=4 # x=x*4\n",
    "print(\"x*=4 -->\",x)"
   ]
  },
  {
   "cell_type": "code",
   "execution_count": 30,
   "id": "fcd038ff",
   "metadata": {},
   "outputs": [
    {
     "name": "stdout",
     "output_type": "stream",
     "text": [
      "5x2^2+10/20 = 20.5\n"
     ]
    }
   ],
   "source": [
    "#Latihan soal\n",
    "print(\"5x2^2+10/20 =\",5*2**2+10/20)"
   ]
  },
  {
   "cell_type": "code",
   "execution_count": 41,
   "id": "fe6cdf43",
   "metadata": {},
   "outputs": [
    {
     "name": "stdout",
     "output_type": "stream",
     "text": [
      "5==20 : False\n",
      "5!=20 : True\n",
      "5> 20 : False\n",
      "5< 20 : True\n",
      "5>=20 : False\n",
      "5<=20 : True\n"
     ]
    }
   ],
   "source": [
    "#Operator Perbandingan\n",
    "x = 5\n",
    "y = 20\n",
    "\n",
    "print(f\"{x}=={y} :\",x==y)\n",
    "print(f\"{x}!={y} :\",x!=y)\n",
    "print(f\"{x}> {y} :\",x>y)\n",
    "print(f\"{x}< {y} :\",x<y)\n",
    "print(f\"{x}>={y} :\",x>=y)\n",
    "print(f\"{x}<={y} :\",x<=y)"
   ]
  },
  {
   "cell_type": "code",
   "execution_count": 46,
   "id": "dc3858c0",
   "metadata": {},
   "outputs": [
    {
     "name": "stdout",
     "output_type": "stream",
     "text": [
      "400 < 100 \t : False\n",
      "10 * 2 = 20 \t : True\n",
      "50 < 10 \t : False\n",
      "2 * 3 * 4 > = 24 : True\n"
     ]
    }
   ],
   "source": [
    "# Latihan(2)\n",
    "print(\"400 < 100 \\t :\",400<100)\n",
    "print(\"10 * 2 = 20 \\t :\",10*2==20)\n",
    "print(\"50 < 10 \\t :\",50*2!=100)\n",
    "print(\"2 * 3 * 4 > = 24 :\",2*3*4>=24)\n"
   ]
  },
  {
   "cell_type": "code",
   "execution_count": 61,
   "id": "c31d2fa7",
   "metadata": {},
   "outputs": [
    {
     "name": "stdout",
     "output_type": "stream",
     "text": [
      "True and False = True\n",
      "True and False = False\n"
     ]
    }
   ],
   "source": [
    "#Operator logika \n",
    "x = True\n",
    "y = False\n",
    "print(x,\"and\",y,\"=\",x or  y)\n",
    "print(x,\"and\",y,\"=\",x and y)\n",
    "\n",
    "\n"
   ]
  },
  {
   "cell_type": "code",
   "execution_count": 65,
   "id": "04fb5c52",
   "metadata": {},
   "outputs": [
    {
     "name": "stdout",
     "output_type": "stream",
     "text": [
      "Laku       : True\n",
      "Tidak Laku : False\n"
     ]
    }
   ],
   "source": [
    "# Latihan (3)\n",
    "murah = True\n",
    "discon= True\n",
    "print(\"Laku       :\",murah and discon)\n",
    "print(\"Tidak Laku :\",(not murah)and(not discon))"
   ]
  },
  {
   "cell_type": "code",
   "execution_count": 67,
   "id": "83964fe4",
   "metadata": {},
   "outputs": [
    {
     "name": "stdout",
     "output_type": "stream",
     "text": [
      "True\n",
      "False\n"
     ]
    }
   ],
   "source": [
    "# Oprator identitas \n",
    "a, b =2, 2\n",
    "print(a is b)\n",
    "print(a is not b)"
   ]
  },
  {
   "cell_type": "code",
   "execution_count": 74,
   "id": "93620168",
   "metadata": {},
   "outputs": [
    {
     "name": "stdout",
     "output_type": "stream",
     "text": [
      "a is b               : True\n",
      "a is not b           : False\n",
      "list_a is list_b     : False\n",
      "list_a == list_b     : True\n",
      "nama_a is nama_b     : True\n",
      "nama_a is not nama_b : False\n"
     ]
    }
   ],
   "source": [
    "# Operator Identitas\n",
    "a = 5\n",
    "b = 5\n",
    "list_a = [1,2,3]\n",
    "list_b = [1,2,3]\n",
    "nama_a = \"ramdhani\"\n",
    "nama_b = \"ramdhani\"\n",
    "\n",
    "print(\"a is b               :\",a is b)\n",
    "print(\"a is not b           :\",a is not b)\n",
    "\n",
    "print(\"list_a is list_b     :\",list_a is list_b)\n",
    "print(\"list_a == list_b     :\",list_a == list_b)\n",
    "\n",
    "print(\"nama_a is nama_b     :\",nama_a is nama_b)\n",
    "print(\"nama_a is not nama_b :\",nama_a is not nama_b)"
   ]
  },
  {
   "cell_type": "code",
   "execution_count": 83,
   "id": "744d4e74",
   "metadata": {},
   "outputs": [
    {
     "name": "stdout",
     "output_type": "stream",
     "text": [
      "\n",
      "bahasa1 is bahasa2 : False\n",
      "bahasa1 is bahasa2 : True\n",
      "\n"
     ]
    }
   ],
   "source": [
    "#latihan(4)\n",
    "bahasa1 = (\"python\",\"php\",\"javascript\",\"java\")\n",
    "bahasa2 = (\"python\",\"php\",\"golang\",\"java\",\"rush\")\n",
    "print(f\"\"\"\n",
    "bahasa1 is bahasa2 : {bahasa1 is bahasa2}\n",
    "bahasa1 is bahasa2 : {bahasa1 is not bahasa2}\n",
    "\"\"\")"
   ]
  },
  {
   "cell_type": "code",
   "execution_count": 90,
   "id": "a5ad4cb6",
   "metadata": {},
   "outputs": [
    {
     "name": "stdout",
     "output_type": "stream",
     "text": [
      "\n",
      "apakah i di nama                :True\n",
      "apakan y di nama                :False\n",
      "apakah sunmori di hobi          :True\n",
      "apakah bulu tangkis di hobi     :True\n",
      "\n"
     ]
    }
   ],
   "source": [
    "# Operator Member \n",
    "nama = \"adzrial\"\n",
    "hobi = [\"ngoding\",\"bulu tangkis\",\"sunmori\"]\n",
    "print(f\"\"\"\n",
    "apakah i di nama                :{\"i\" in nama}\n",
    "apakan y di nama                :{\"y\" in nama}\n",
    "apakah sunmori di hobi          :{\"sunmori\" in hobi}\n",
    "apakah bulu tangkis di hobi     :{\"bulu tangkis\" in hobi}\n",
    "\"\"\") \n"
   ]
  },
  {
   "cell_type": "code",
   "execution_count": 95,
   "id": "c2f175e4",
   "metadata": {},
   "outputs": [
    {
     "name": "stdout",
     "output_type": "stream",
     "text": [
      "Masukan number:4\n",
      "Masukan number:4\n",
      "\n",
      "4      : 0b100\n",
      "4      : 0b100\n",
      "4 & 4: 4\n",
      "4 | 4: 4\n",
      "4 ^ 4: 0\n",
      "\n"
     ]
    }
   ],
   "source": [
    "# Operator Betwise\n",
    "x = int(input(\"Masukan number:\"))\n",
    "y = int(input(\"Masukan number:\"))\n",
    "print(f\"\"\"\n",
    "{x}      : {bin(x)}\n",
    "{y}      : {bin(y)}\n",
    "{x} & {y}: {x & y}\n",
    "{x} | {y}: {x | y}\n",
    "{x} ^ {y}: {x ^ y}\n",
    "\"\"\")"
   ]
  },
  {
   "cell_type": "code",
   "execution_count": 97,
   "id": "54aa671b",
   "metadata": {},
   "outputs": [
    {
     "name": "stdout",
     "output_type": "stream",
     "text": [
      "\n",
      "biner dari hello\n",
      "h = 01101000\n",
      "e = 01100101\n",
      "l = 01101100\n",
      "l = 01101100\n",
      "o = 01101111\n",
      "\n"
     ]
    }
   ],
   "source": [
    "print(f\"\"\"\n",
    "biner dari hello\n",
    "h = {format(104,\"08b\")}\n",
    "e = {format(101,\"08b\")}\n",
    "l = {format(108,\"08b\")}\n",
    "l = {format(108,\"08b\")}\n",
    "o = {format(111,\"08b\")}\n",
    "\"\"\")"
   ]
  }
 ],
 "metadata": {
  "kernelspec": {
   "display_name": "Python 3 (ipykernel)",
   "language": "python",
   "name": "python3"
  },
  "language_info": {
   "codemirror_mode": {
    "name": "ipython",
    "version": 3
   },
   "file_extension": ".py",
   "mimetype": "text/x-python",
   "name": "python",
   "nbconvert_exporter": "python",
   "pygments_lexer": "ipython3",
   "version": "3.9.12"
  }
 },
 "nbformat": 4,
 "nbformat_minor": 5
}
