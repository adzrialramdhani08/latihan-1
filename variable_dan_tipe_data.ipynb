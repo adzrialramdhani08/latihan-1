{
 "cells": [
  {
   "cell_type": "code",
   "execution_count": 16,
   "id": "314978b1",
   "metadata": {},
   "outputs": [
    {
     "name": "stdout",
     "output_type": "stream",
     "text": [
      "==============================\n",
      "belajar variable dan tipe data\n",
      "==============================\n",
      "nama : muhamad adzrial ramdhani\n",
      "kelas : TI22E\n",
      "usia : 21\n",
      "status : False\n",
      "hobi : bulu tangkis\n",
      "absen : hadir\n",
      "======== TERIMA KASIH ========\n"
     ]
    }
   ],
   "source": [
    "print(\"==============================\")\n",
    "print(\"belajar variable dan tipe data\")\n",
    "print(\"==============================\")\n",
    "\n",
    "nama= \"muhamad adzrial ramdhani\"\n",
    "kelas=\"TI22E\"\n",
    "usia= 21\n",
    "status= False \n",
    "hobi= \"bulu tangkis\"\n",
    "absen= \"hadir\"\n",
    "print(\"nama :\",nama)\n",
    "print(\"kelas :\",kelas)\n",
    "print(\"usia :\",usia)\n",
    "print(\"status :\",status)\n",
    "print(\"hobi :\",hobi)\n",
    "print(\"absen :\",absen)\n",
    "\n",
    "\n",
    "print(\"=\"*8,\"TERIMA KASIH\",\"=\"*8)"
   ]
  },
  {
   "cell_type": "code",
   "execution_count": 11,
   "id": "bfc42caa",
   "metadata": {},
   "outputs": [
    {
     "name": "stdout",
     "output_type": "stream",
     "text": [
      "a : 1\n",
      "b : 2\n",
      "c : mantap\n"
     ]
    }
   ],
   "source": [
    "a,b,c=1,2,\"mantap\"\n",
    "print(\"a :\",a)\n",
    "print(\"b :\",b)\n",
    "print(\"c :\",c)"
   ]
  },
  {
   "cell_type": "code",
   "execution_count": 17,
   "id": "8b152270",
   "metadata": {},
   "outputs": [
    {
     "name": "stdout",
     "output_type": "stream",
     "text": [
      "a : 10\n",
      "b : 10\n",
      "c : 10\n"
     ]
    }
   ],
   "source": [
    "a=b=c=10\n",
    "print(\"a :\",a)\n",
    "print(\"b :\",b)\n",
    "print(\"c :\",c)"
   ]
  },
  {
   "cell_type": "code",
   "execution_count": 19,
   "id": "a2f68992",
   "metadata": {},
   "outputs": [
    {
     "name": "stdout",
     "output_type": "stream",
     "text": [
      "<class 'str'>\n",
      "<class 'int'>\n"
     ]
    }
   ],
   "source": [
    "kota= \"sukabumi\"\n",
    "luas= 1500\n",
    "\n",
    "print(type(kota))\n",
    "print(type(luas))"
   ]
  },
  {
   "cell_type": "code",
   "execution_count": 28,
   "id": "517a1c34",
   "metadata": {},
   "outputs": [
    {
     "name": "stdout",
     "output_type": "stream",
     "text": [
      "L 5 * P 10 = 50\n",
      "type data lebar <class 'int'>\n",
      "type data panjang <class 'int'>\n",
      "type data luas <class 'int'>\n"
     ]
    }
   ],
   "source": [
    "lebar=5\n",
    "panjang=10\n",
    "luas=lebar*panjang\n",
    "\n",
    "print(\"L\",lebar,'*',\"P\",panjang,\"=\",luas)\n",
    "print(\"type data lebar\", type(lebar))\n",
    "print(\"type data panjang\", type(panjang))\n",
    "print(\"type data luas\", type(luas))"
   ]
  },
  {
   "cell_type": "code",
   "execution_count": 39,
   "id": "b05083cd",
   "metadata": {},
   "outputs": [
    {
     "name": "stdout",
     "output_type": "stream",
     "text": [
      "====================\n",
      "Rumus Luas Segitiga\n",
      "====================\n",
      "1/2( 10 x 5 ) = 25.0\n",
      "luas segitiga adalah 25.0\n"
     ]
    }
   ],
   "source": [
    "print(\"=\"*20)\n",
    "print(\"Rumus Luas Segitiga\")\n",
    "print(\"=\"*20)\n",
    "alas=10\n",
    "tinggi=5\n",
    "hasil=(alas*tinggi)/2\n",
    "print(\"1/2(\",alas,\"x\",tinggi,\") =\",hasil)\n",
    "print(\"luas segitiga adalah %0.1f\" %hasil)"
   ]
  },
  {
   "cell_type": "code",
   "execution_count": 48,
   "id": "8024e92c",
   "metadata": {},
   "outputs": [
    {
     "name": "stdout",
     "output_type": "stream",
     "text": [
      "================= RUMUS HITUNG UMUR ==================\n",
      "tahun sekarang : 2022\n",
      "tahun lahir : 2001\n",
      "umur kamu : 21\n",
      "==================== TERIMA KASIH ====================\n"
     ]
    }
   ],
   "source": [
    "print(\"=\"*17,\"RUMUS HITUNG UMUR\",\"=\"*18)\n",
    "\n",
    "t_lahir= 2001\n",
    "t_now= 2022\n",
    "umur_now = t_now - t_lahir \n",
    "print(\"tahun sekarang :\",t_now)\n",
    "print(\"tahun lahir :\",t_lahir)\n",
    "print(\"umur kamu :\",umur_now)\n",
    "\n",
    "print(\"=\"*20,\"TERIMA KASIH\",\"=\"*20)"
   ]
  },
  {
   "cell_type": "code",
   "execution_count": 52,
   "id": "76c561d4",
   "metadata": {},
   "outputs": [
    {
     "name": "stdout",
     "output_type": "stream",
     "text": [
      "type dari nama lenglap : <class 'str'>\n",
      "type dari usia         : <class 'int'>\n",
      "type dari alamat       : <class 'str'>\n",
      "type dari kata mutiara : <class 'str'>\n"
     ]
    }
   ],
   "source": [
    "nama_depan=\"muhamad adzrial\"\n",
    "nama_belakang=\"ramdhani\"\n",
    "nama_lengkap= nama_depan + \" \" + nama_belakang \n",
    "usia= 21\n",
    "alamat=\"Baros\"\n",
    "kata_mutiara= \"tetap bersyukur walaupun banyak cobaan\"\n",
    "print(\"type dari nama lenglap :\",type(nama_lengkap))\n",
    "print(\"type dari usia         :\",type(usia))\n",
    "print(\"type dari alamat       :\",type(alamat))\n",
    "print(\"type dari kata mutiara :\",type(kata_mutiara))"
   ]
  },
  {
   "cell_type": "code",
   "execution_count": 67,
   "id": "c0efc48e",
   "metadata": {},
   "outputs": [
    {
     "name": "stdout",
     "output_type": "stream",
     "text": [
      "saya   saya   saya   \n"
     ]
    }
   ],
   "source": [
    "\n",
    "print(\"saya   \"*3,)\n"
   ]
  },
  {
   "cell_type": "code",
   "execution_count": 68,
   "id": "ce6c82ab",
   "metadata": {},
   "outputs": [
    {
     "name": "stdout",
     "output_type": "stream",
     "text": [
      "saya*saya\n"
     ]
    }
   ],
   "source": [
    "print(\"saya*saya\")"
   ]
  },
  {
   "cell_type": "code",
   "execution_count": 73,
   "id": "4ae49d06",
   "metadata": {},
   "outputs": [
    {
     "name": "stdout",
     "output_type": "stream",
     "text": [
      "saya\n",
      "saya\n",
      "saya\n"
     ]
    }
   ],
   "source": [
    "print(\"saya\\nsaya\\nsaya\")"
   ]
  },
  {
   "cell_type": "code",
   "execution_count": 76,
   "id": "d2f36b14",
   "metadata": {},
   "outputs": [
    {
     "name": "stdout",
     "output_type": "stream",
     "text": [
      "\n",
      "saya\n",
      "saya\n",
      "saya\n"
     ]
    }
   ],
   "source": [
    "print(\"\"\"\n",
    "saya\n",
    "saya\n",
    "saya\"\"\")"
   ]
  },
  {
   "cell_type": "code",
   "execution_count": 80,
   "id": "a415f948",
   "metadata": {},
   "outputs": [
    {
     "name": "stdout",
     "output_type": "stream",
     "text": [
      "apakah saya orang indonesia : True\n",
      "apakah saya robot : False\n"
     ]
    }
   ],
   "source": [
    "saya_orang_indonesia = True\n",
    "saya_robot = False \n",
    "\n",
    "\n",
    "print(\"apakah saya orang indonesia :\",saya_orang_indonesia)\n",
    "print(\"apakah saya robot :\",saya_robot)"
   ]
  },
  {
   "cell_type": "code",
   "execution_count": 82,
   "id": "32cb895f",
   "metadata": {},
   "outputs": [
    {
     "name": "stdout",
     "output_type": "stream",
     "text": [
      "12 < 10 : False\n",
      "10 > 12 : False\n",
      "A = a : False\n"
     ]
    }
   ],
   "source": [
    "#soal 12<10>12 A=a\n",
    "print(\"12 < 10 :\",12<10)\n",
    "print(\"10 > 12 :\",10>12) \n",
    "print(\"A = a :\",'A'=='a')"
   ]
  }
 ],
 "metadata": {
  "kernelspec": {
   "display_name": "Python 3 (ipykernel)",
   "language": "python",
   "name": "python3"
  },
  "language_info": {
   "codemirror_mode": {
    "name": "ipython",
    "version": 3
   },
   "file_extension": ".py",
   "mimetype": "text/x-python",
   "name": "python",
   "nbconvert_exporter": "python",
   "pygments_lexer": "ipython3",
   "version": "3.9.12"
  }
 },
 "nbformat": 4,
 "nbformat_minor": 5
}
